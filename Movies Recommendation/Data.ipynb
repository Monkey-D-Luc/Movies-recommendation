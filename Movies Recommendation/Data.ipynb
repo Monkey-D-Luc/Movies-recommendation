{
 "cells": [
  {
   "cell_type": "code",
   "execution_count": 1,
   "metadata": {
    "colab": {
     "base_uri": "https://localhost:8080/"
    },
    "executionInfo": {
     "elapsed": 5929,
     "status": "ok",
     "timestamp": 1718470360517,
     "user": {
      "displayName": "Sơn Cao",
      "userId": "11202613741160873586"
     },
     "user_tz": -420
    },
    "id": "hoUXXfmWg-w-",
    "outputId": "5b117b83-57ba-4c3f-8d5f-c7acd51cc7ce"
   },
   "outputs": [
    {
     "name": "stderr",
     "output_type": "stream",
     "text": [
      "C:\\Users\\PC\\AppData\\Local\\Temp\\ipykernel_18112\\3386175969.py:3: DtypeWarning: Columns (10) have mixed types. Specify dtype option on import or set low_memory=False.\n",
      "  movies = pd.read_csv('movies_metadata.csv')\n"
     ]
    }
   ],
   "source": [
    "\n",
    "import numpy as np\n",
    "import pandas as pd\n",
    "movies = pd.read_csv('movies_metadata.csv')\n",
    "creadits =pd.read_csv('credits.csv')"
   ]
  },
  {
   "cell_type": "code",
   "execution_count": 2,
   "metadata": {
    "colab": {
     "base_uri": "https://localhost:8080/",
     "height": 36
    },
    "executionInfo": {
     "elapsed": 358,
     "status": "ok",
     "timestamp": 1718470362250,
     "user": {
      "displayName": "Sơn Cao",
      "userId": "11202613741160873586"
     },
     "user_tz": -420
    },
    "id": "YuWbmYB0iiQ2",
    "outputId": "0436fc18-847d-4179-fb61-044c0b6348ac"
   },
   "outputs": [
    {
     "data": {
      "text/plain": [
       "\"[{'id': 16, 'name': 'Animation'}, {'id': 35, 'name': 'Comedy'}, {'id': 10751, 'name': 'Family'}]\""
      ]
     },
     "execution_count": 2,
     "metadata": {},
     "output_type": "execute_result"
    }
   ],
   "source": [
    "movies.iloc[0]['genres']"
   ]
  },
  {
   "cell_type": "code",
   "execution_count": 3,
   "metadata": {
    "executionInfo": {
     "elapsed": 337,
     "status": "ok",
     "timestamp": 1718470363915,
     "user": {
      "displayName": "Sơn Cao",
      "userId": "11202613741160873586"
     },
     "user_tz": -420
    },
    "id": "V4Kr7YH7kXGX"
   },
   "outputs": [],
   "source": [
    "movies['id'] = movies['id'].astype(str)\n",
    "creadits['id'] = creadits['id'].astype(str)\n",
    "movies = movies.merge(creadits, on='id')"
   ]
  },
  {
   "cell_type": "code",
   "execution_count": 4,
   "metadata": {
    "executionInfo": {
     "elapsed": 371,
     "status": "ok",
     "timestamp": 1718470365707,
     "user": {
      "displayName": "Sơn Cao",
      "userId": "11202613741160873586"
     },
     "user_tz": -420
    },
    "id": "2WO0eK5KoPye"
   },
   "outputs": [],
   "source": [
    "movies = movies[['id','title','overview','genres','cast','crew']]"
   ]
  },
  {
   "cell_type": "code",
   "execution_count": 5,
   "metadata": {
    "executionInfo": {
     "elapsed": 356,
     "status": "ok",
     "timestamp": 1718470367092,
     "user": {
      "displayName": "Sơn Cao",
      "userId": "11202613741160873586"
     },
     "user_tz": -420
    },
    "id": "0yFcr0pco4c2"
   },
   "outputs": [],
   "source": [
    "movies.dropna (inplace=True)"
   ]
  },
  {
   "cell_type": "code",
   "execution_count": 6,
   "metadata": {
    "executionInfo": {
     "elapsed": 879,
     "status": "ok",
     "timestamp": 1718470370873,
     "user": {
      "displayName": "Sơn Cao",
      "userId": "11202613741160873586"
     },
     "user_tz": -420
    },
    "id": "Rz4wjB7upU5M"
   },
   "outputs": [],
   "source": [
    "duplicates = movies[movies.duplicated()]"
   ]
  },
  {
   "cell_type": "code",
   "execution_count": 7,
   "metadata": {
    "executionInfo": {
     "elapsed": 1052,
     "status": "ok",
     "timestamp": 1718470373009,
     "user": {
      "displayName": "Sơn Cao",
      "userId": "11202613741160873586"
     },
     "user_tz": -420
    },
    "id": "tHcvrH_lpZZc"
   },
   "outputs": [],
   "source": [
    "movies= movies.drop_duplicates()"
   ]
  },
  {
   "cell_type": "code",
   "execution_count": 8,
   "metadata": {
    "executionInfo": {
     "elapsed": 2,
     "status": "ok",
     "timestamp": 1718470374021,
     "user": {
      "displayName": "Sơn Cao",
      "userId": "11202613741160873586"
     },
     "user_tz": -420
    },
    "id": "pkOlAWB6pBte"
   },
   "outputs": [],
   "source": [
    "import ast\n",
    "\n",
    "def convert(text):\n",
    "    L = []\n",
    "    for i in ast.literal_eval(text):\n",
    "        L.append(i['name'])\n",
    "    return L"
   ]
  },
  {
   "cell_type": "code",
   "execution_count": 9,
   "metadata": {
    "executionInfo": {
     "elapsed": 3162,
     "status": "ok",
     "timestamp": 1718470383251,
     "user": {
      "displayName": "Sơn Cao",
      "userId": "11202613741160873586"
     },
     "user_tz": -420
    },
    "id": "qigVAk_8pnA0"
   },
   "outputs": [],
   "source": [
    "movies['genres'] = movies['genres'].apply(convert)"
   ]
  },
  {
   "cell_type": "code",
   "execution_count": 10,
   "metadata": {
    "executionInfo": {
     "elapsed": 348,
     "status": "ok",
     "timestamp": 1718470384656,
     "user": {
      "displayName": "Sơn Cao",
      "userId": "11202613741160873586"
     },
     "user_tz": -420
    },
    "id": "olK33Fzsp4bW"
   },
   "outputs": [],
   "source": [
    "def fetch_director(text):\n",
    "    L = []\n",
    "    for i in ast.literal_eval(text):\n",
    "        if i['job'] == 'Director':\n",
    "            L.append(i['name'])\n",
    "            break\n",
    "    return L"
   ]
  },
  {
   "cell_type": "code",
   "execution_count": 11,
   "metadata": {
    "executionInfo": {
     "elapsed": 18081,
     "status": "ok",
     "timestamp": 1718470406323,
     "user": {
      "displayName": "Sơn Cao",
      "userId": "11202613741160873586"
     },
     "user_tz": -420
    },
    "id": "Jvhu_KlqsJ_F"
   },
   "outputs": [],
   "source": [
    "movies['crew'] = movies['crew'].apply(fetch_director)"
   ]
  },
  {
   "cell_type": "code",
   "execution_count": 12,
   "metadata": {
    "executionInfo": {
     "elapsed": 341,
     "status": "ok",
     "timestamp": 1718470412759,
     "user": {
      "displayName": "Sơn Cao",
      "userId": "11202613741160873586"
     },
     "user_tz": -420
    },
    "id": "Q6NO6zMlsrxm"
   },
   "outputs": [],
   "source": [
    "def convert_cast(text):\n",
    "    L = []\n",
    "    counter = 0\n",
    "    for i in ast.literal_eval(text):\n",
    "        if counter < 5:\n",
    "            L.append(i['name'])\n",
    "        counter+=1\n",
    "    return L"
   ]
  },
  {
   "cell_type": "code",
   "execution_count": 13,
   "metadata": {
    "executionInfo": {
     "elapsed": 32313,
     "status": "ok",
     "timestamp": 1718470446911,
     "user": {
      "displayName": "Sơn Cao",
      "userId": "11202613741160873586"
     },
     "user_tz": -420
    },
    "id": "-MYsjP_NstVO"
   },
   "outputs": [],
   "source": [
    "movies['cast'] = movies['cast'].apply(convert_cast)"
   ]
  },
  {
   "cell_type": "code",
   "execution_count": 14,
   "metadata": {
    "executionInfo": {
     "elapsed": 880,
     "status": "ok",
     "timestamp": 1718470450401,
     "user": {
      "displayName": "Sơn Cao",
      "userId": "11202613741160873586"
     },
     "user_tz": -420
    },
    "id": "FpGrPrvOulZN"
   },
   "outputs": [],
   "source": [
    "movies['overview'] = movies['overview'].apply(lambda x:x.split())"
   ]
  },
  {
   "cell_type": "code",
   "execution_count": 15,
   "metadata": {
    "executionInfo": {
     "elapsed": 354,
     "status": "ok",
     "timestamp": 1718470452306,
     "user": {
      "displayName": "Sơn Cao",
      "userId": "11202613741160873586"
     },
     "user_tz": -420
    },
    "id": "9uP7nt-ouslV"
   },
   "outputs": [],
   "source": [
    "def remove_space(L):\n",
    "    L1 = []\n",
    "    for i in L:\n",
    "        L1.append(i.replace(\" \",\"\"))\n",
    "    return L1"
   ]
  },
  {
   "cell_type": "code",
   "execution_count": 16,
   "metadata": {
    "executionInfo": {
     "elapsed": 896,
     "status": "ok",
     "timestamp": 1718470455672,
     "user": {
      "displayName": "Sơn Cao",
      "userId": "11202613741160873586"
     },
     "user_tz": -420
    },
    "id": "fOb1KwT7uyYV"
   },
   "outputs": [],
   "source": [
    "movies['cast'] = movies['cast'].apply(remove_space)\n",
    "movies['crew'] = movies['crew'].apply(remove_space)\n",
    "movies['genres'] = movies['genres'].apply(remove_space)"
   ]
  },
  {
   "cell_type": "code",
   "execution_count": 17,
   "metadata": {
    "executionInfo": {
     "elapsed": 1079,
     "status": "ok",
     "timestamp": 1718470457772,
     "user": {
      "displayName": "Sơn Cao",
      "userId": "11202613741160873586"
     },
     "user_tz": -420
    },
    "id": "OXrXBOffvhns"
   },
   "outputs": [],
   "source": [
    "movies['tags'] = movies['overview'] + movies['genres'] + movies['cast'] + movies['crew']"
   ]
  },
  {
   "cell_type": "code",
   "execution_count": 18,
   "metadata": {
    "executionInfo": {
     "elapsed": 961,
     "status": "ok",
     "timestamp": 1718470460372,
     "user": {
      "displayName": "Sơn Cao",
      "userId": "11202613741160873586"
     },
     "user_tz": -420
    },
    "id": "Uz447uMlvqDl"
   },
   "outputs": [],
   "source": [
    "new_df = movies[['id','title','tags']]"
   ]
  },
  {
   "cell_type": "code",
   "execution_count": 19,
   "metadata": {
    "executionInfo": {
     "elapsed": 594,
     "status": "ok",
     "timestamp": 1718470462354,
     "user": {
      "displayName": "Sơn Cao",
      "userId": "11202613741160873586"
     },
     "user_tz": -420
    },
    "id": "Erdzu6PRvwDl"
   },
   "outputs": [
    {
     "name": "stderr",
     "output_type": "stream",
     "text": [
      "C:\\Users\\PC\\AppData\\Local\\Temp\\ipykernel_18112\\4185891279.py:1: SettingWithCopyWarning: \n",
      "A value is trying to be set on a copy of a slice from a DataFrame.\n",
      "Try using .loc[row_indexer,col_indexer] = value instead\n",
      "\n",
      "See the caveats in the documentation: https://pandas.pydata.org/pandas-docs/stable/user_guide/indexing.html#returning-a-view-versus-a-copy\n",
      "  new_df.loc[:,'tags'] = new_df['tags'].apply(lambda x: \" \".join(x))\n"
     ]
    }
   ],
   "source": [
    "new_df.loc[:,'tags'] = new_df['tags'].apply(lambda x: \" \".join(x))"
   ]
  },
  {
   "cell_type": "code",
   "execution_count": 20,
   "metadata": {
    "executionInfo": {
     "elapsed": 356,
     "status": "ok",
     "timestamp": 1718470465575,
     "user": {
      "displayName": "Sơn Cao",
      "userId": "11202613741160873586"
     },
     "user_tz": -420
    },
    "id": "LIHWwIcdwIXt"
   },
   "outputs": [
    {
     "name": "stderr",
     "output_type": "stream",
     "text": [
      "C:\\Users\\PC\\AppData\\Local\\Temp\\ipykernel_18112\\1633883480.py:1: SettingWithCopyWarning: \n",
      "A value is trying to be set on a copy of a slice from a DataFrame.\n",
      "Try using .loc[row_indexer,col_indexer] = value instead\n",
      "\n",
      "See the caveats in the documentation: https://pandas.pydata.org/pandas-docs/stable/user_guide/indexing.html#returning-a-view-versus-a-copy\n",
      "  new_df.loc[:,'tags'] = new_df['tags'].apply(lambda x:x.lower())\n"
     ]
    }
   ],
   "source": [
    "new_df.loc[:,'tags'] = new_df['tags'].apply(lambda x:x.lower())"
   ]
  },
  {
   "cell_type": "code",
   "execution_count": 21,
   "metadata": {
    "executionInfo": {
     "elapsed": 2972,
     "status": "ok",
     "timestamp": 1718470472857,
     "user": {
      "displayName": "Sơn Cao",
      "userId": "11202613741160873586"
     },
     "user_tz": -420
    },
    "id": "dx2M-KrUwOb-"
   },
   "outputs": [],
   "source": [
    "import nltk\n",
    "from nltk.stem import PorterStemmer"
   ]
  },
  {
   "cell_type": "code",
   "execution_count": 22,
   "metadata": {
    "executionInfo": {
     "elapsed": 5,
     "status": "ok",
     "timestamp": 1718470474144,
     "user": {
      "displayName": "Sơn Cao",
      "userId": "11202613741160873586"
     },
     "user_tz": -420
    },
    "id": "LlRuW2lswWKF"
   },
   "outputs": [],
   "source": [
    "ps = PorterStemmer()"
   ]
  },
  {
   "cell_type": "code",
   "execution_count": 23,
   "metadata": {
    "executionInfo": {
     "elapsed": 2,
     "status": "ok",
     "timestamp": 1718470475543,
     "user": {
      "displayName": "Sơn Cao",
      "userId": "11202613741160873586"
     },
     "user_tz": -420
    },
    "id": "zwi5KTlewYsV"
   },
   "outputs": [],
   "source": [
    "def stems(text):\n",
    "    T = []\n",
    "\n",
    "    for i in text.split():\n",
    "        T.append(ps.stem(i))\n",
    "\n",
    "    return \" \".join(T)"
   ]
  },
  {
   "cell_type": "code",
   "execution_count": 24,
   "metadata": {
    "executionInfo": {
     "elapsed": 64433,
     "status": "ok",
     "timestamp": 1718470540905,
     "user": {
      "displayName": "Sơn Cao",
      "userId": "11202613741160873586"
     },
     "user_tz": -420
    },
    "id": "rSqQRdZmwab9"
   },
   "outputs": [
    {
     "name": "stderr",
     "output_type": "stream",
     "text": [
      "C:\\Users\\PC\\AppData\\Local\\Temp\\ipykernel_18112\\2749765654.py:1: SettingWithCopyWarning: \n",
      "A value is trying to be set on a copy of a slice from a DataFrame.\n",
      "Try using .loc[row_indexer,col_indexer] = value instead\n",
      "\n",
      "See the caveats in the documentation: https://pandas.pydata.org/pandas-docs/stable/user_guide/indexing.html#returning-a-view-versus-a-copy\n",
      "  new_df.loc[:,'tags'] = new_df['tags'].apply(stems)\n"
     ]
    }
   ],
   "source": [
    "new_df.loc[:,'tags'] = new_df['tags'].apply(stems)"
   ]
  },
  {
   "cell_type": "code",
   "execution_count": 25,
   "metadata": {
    "executionInfo": {
     "elapsed": 9,
     "status": "ok",
     "timestamp": 1718470540905,
     "user": {
      "displayName": "Sơn Cao",
      "userId": "11202613741160873586"
     },
     "user_tz": -420
    },
    "id": "zN2BG5F8wj4d"
   },
   "outputs": [],
   "source": [
    "from sklearn.feature_extraction.text import CountVectorizer\n",
    "cv = CountVectorizer(max_features=5000,stop_words='english')"
   ]
  },
  {
   "cell_type": "code",
   "execution_count": 26,
   "metadata": {
    "executionInfo": {
     "elapsed": 6269,
     "status": "ok",
     "timestamp": 1718470559349,
     "user": {
      "displayName": "Sơn Cao",
      "userId": "11202613741160873586"
     },
     "user_tz": -420
    },
    "id": "ng_ISPLvwmnZ"
   },
   "outputs": [],
   "source": [
    "vector = cv.fit_transform(new_df['tags']).toarray()"
   ]
  },
  {
   "cell_type": "code",
   "execution_count": 27,
   "metadata": {
    "id": "cjFYpDGUw6GV"
   },
   "outputs": [
    {
     "ename": "MemoryError",
     "evalue": "Unable to allocate 14.7 GiB for an array with shape (44482, 44482) and data type float64",
     "output_type": "error",
     "traceback": [
      "\u001b[1;31m---------------------------------------------------------------------------\u001b[0m",
      "\u001b[1;31mMemoryError\u001b[0m                               Traceback (most recent call last)",
      "Cell \u001b[1;32mIn[27], line 2\u001b[0m\n\u001b[0;32m      1\u001b[0m \u001b[38;5;28;01mfrom\u001b[39;00m \u001b[38;5;21;01msklearn\u001b[39;00m\u001b[38;5;21;01m.\u001b[39;00m\u001b[38;5;21;01mmetrics\u001b[39;00m\u001b[38;5;21;01m.\u001b[39;00m\u001b[38;5;21;01mpairwise\u001b[39;00m \u001b[38;5;28;01mimport\u001b[39;00m cosine_similarity\n\u001b[1;32m----> 2\u001b[0m similar \u001b[38;5;241m=\u001b[39m cosine_similarity(vector)\n",
      "File \u001b[1;32mD:\\Program Files\\Nox\\Lib\\site-packages\\sklearn\\utils\\_param_validation.py:211\u001b[0m, in \u001b[0;36mvalidate_params.<locals>.decorator.<locals>.wrapper\u001b[1;34m(*args, **kwargs)\u001b[0m\n\u001b[0;32m    205\u001b[0m \u001b[38;5;28;01mtry\u001b[39;00m:\n\u001b[0;32m    206\u001b[0m     \u001b[38;5;28;01mwith\u001b[39;00m config_context(\n\u001b[0;32m    207\u001b[0m         skip_parameter_validation\u001b[38;5;241m=\u001b[39m(\n\u001b[0;32m    208\u001b[0m             prefer_skip_nested_validation \u001b[38;5;129;01mor\u001b[39;00m global_skip_validation\n\u001b[0;32m    209\u001b[0m         )\n\u001b[0;32m    210\u001b[0m     ):\n\u001b[1;32m--> 211\u001b[0m         \u001b[38;5;28;01mreturn\u001b[39;00m func(\u001b[38;5;241m*\u001b[39margs, \u001b[38;5;241m*\u001b[39m\u001b[38;5;241m*\u001b[39mkwargs)\n\u001b[0;32m    212\u001b[0m \u001b[38;5;28;01mexcept\u001b[39;00m InvalidParameterError \u001b[38;5;28;01mas\u001b[39;00m e:\n\u001b[0;32m    213\u001b[0m     \u001b[38;5;66;03m# When the function is just a wrapper around an estimator, we allow\u001b[39;00m\n\u001b[0;32m    214\u001b[0m     \u001b[38;5;66;03m# the function to delegate validation to the estimator, but we replace\u001b[39;00m\n\u001b[0;32m    215\u001b[0m     \u001b[38;5;66;03m# the name of the estimator by the name of the function in the error\u001b[39;00m\n\u001b[0;32m    216\u001b[0m     \u001b[38;5;66;03m# message to avoid confusion.\u001b[39;00m\n\u001b[0;32m    217\u001b[0m     msg \u001b[38;5;241m=\u001b[39m re\u001b[38;5;241m.\u001b[39msub(\n\u001b[0;32m    218\u001b[0m         \u001b[38;5;124mr\u001b[39m\u001b[38;5;124m\"\u001b[39m\u001b[38;5;124mparameter of \u001b[39m\u001b[38;5;124m\\\u001b[39m\u001b[38;5;124mw+ must be\u001b[39m\u001b[38;5;124m\"\u001b[39m,\n\u001b[0;32m    219\u001b[0m         \u001b[38;5;124mf\u001b[39m\u001b[38;5;124m\"\u001b[39m\u001b[38;5;124mparameter of \u001b[39m\u001b[38;5;132;01m{\u001b[39;00mfunc\u001b[38;5;241m.\u001b[39m\u001b[38;5;18m__qualname__\u001b[39m\u001b[38;5;132;01m}\u001b[39;00m\u001b[38;5;124m must be\u001b[39m\u001b[38;5;124m\"\u001b[39m,\n\u001b[0;32m    220\u001b[0m         \u001b[38;5;28mstr\u001b[39m(e),\n\u001b[0;32m    221\u001b[0m     )\n",
      "File \u001b[1;32mD:\\Program Files\\Nox\\Lib\\site-packages\\sklearn\\metrics\\pairwise.py:1585\u001b[0m, in \u001b[0;36mcosine_similarity\u001b[1;34m(X, Y, dense_output)\u001b[0m\n\u001b[0;32m   1582\u001b[0m \u001b[38;5;28;01melse\u001b[39;00m:\n\u001b[0;32m   1583\u001b[0m     Y_normalized \u001b[38;5;241m=\u001b[39m normalize(Y, copy\u001b[38;5;241m=\u001b[39m\u001b[38;5;28;01mTrue\u001b[39;00m)\n\u001b[1;32m-> 1585\u001b[0m K \u001b[38;5;241m=\u001b[39m safe_sparse_dot(X_normalized, Y_normalized\u001b[38;5;241m.\u001b[39mT, dense_output\u001b[38;5;241m=\u001b[39mdense_output)\n\u001b[0;32m   1587\u001b[0m \u001b[38;5;28;01mreturn\u001b[39;00m K\n",
      "File \u001b[1;32mD:\\Program Files\\Nox\\Lib\\site-packages\\sklearn\\utils\\extmath.py:193\u001b[0m, in \u001b[0;36msafe_sparse_dot\u001b[1;34m(a, b, dense_output)\u001b[0m\n\u001b[0;32m    191\u001b[0m         ret \u001b[38;5;241m=\u001b[39m np\u001b[38;5;241m.\u001b[39mdot(a, b)\n\u001b[0;32m    192\u001b[0m \u001b[38;5;28;01melse\u001b[39;00m:\n\u001b[1;32m--> 193\u001b[0m     ret \u001b[38;5;241m=\u001b[39m a \u001b[38;5;241m@\u001b[39m b\n\u001b[0;32m    195\u001b[0m \u001b[38;5;28;01mif\u001b[39;00m (\n\u001b[0;32m    196\u001b[0m     sparse\u001b[38;5;241m.\u001b[39missparse(a)\n\u001b[0;32m    197\u001b[0m     \u001b[38;5;129;01mand\u001b[39;00m sparse\u001b[38;5;241m.\u001b[39missparse(b)\n\u001b[0;32m    198\u001b[0m     \u001b[38;5;129;01mand\u001b[39;00m dense_output\n\u001b[0;32m    199\u001b[0m     \u001b[38;5;129;01mand\u001b[39;00m \u001b[38;5;28mhasattr\u001b[39m(ret, \u001b[38;5;124m\"\u001b[39m\u001b[38;5;124mtoarray\u001b[39m\u001b[38;5;124m\"\u001b[39m)\n\u001b[0;32m    200\u001b[0m ):\n\u001b[0;32m    201\u001b[0m     \u001b[38;5;28;01mreturn\u001b[39;00m ret\u001b[38;5;241m.\u001b[39mtoarray()\n",
      "\u001b[1;31mMemoryError\u001b[0m: Unable to allocate 14.7 GiB for an array with shape (44482, 44482) and data type float64"
     ]
    }
   ],
   "source": [
    "from sklearn.metrics.pairwise import cosine_similarity\n",
    "similar = cosine_similarity(vector)"
   ]
  },
  {
   "cell_type": "code",
   "execution_count": null,
   "metadata": {
    "id": "bPBpYH0Fw8_N"
   },
   "outputs": [],
   "source": [
    "def recommend(movie):\n",
    "    index = new_df[new_df['title'] == movie].index[0]\n",
    "    distances = sorted(list(enumerate(similar[index])),reverse=True,key = lambda x: x[1])\n",
    "    for i in distances[1:6]:\n",
    "        print(new_df.iloc[i[0]].title)"
   ]
  },
  {
   "cell_type": "code",
   "execution_count": null,
   "metadata": {
    "id": "cIck_uFBw_WF"
   },
   "outputs": [],
   "source": [
    "recommend(\"The Silence of the Lambs\")"
   ]
  }
 ],
 "metadata": {
  "colab": {
   "provenance": []
  },
  "kernelspec": {
   "display_name": "Python 3 (ipykernel)",
   "language": "python",
   "name": "python3"
  },
  "language_info": {
   "codemirror_mode": {
    "name": "ipython",
    "version": 3
   },
   "file_extension": ".py",
   "mimetype": "text/x-python",
   "name": "python",
   "nbconvert_exporter": "python",
   "pygments_lexer": "ipython3",
   "version": "3.11.4"
  }
 },
 "nbformat": 4,
 "nbformat_minor": 1
}
